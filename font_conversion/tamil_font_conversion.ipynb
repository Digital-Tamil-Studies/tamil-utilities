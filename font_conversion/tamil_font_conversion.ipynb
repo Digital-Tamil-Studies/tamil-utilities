{
 "cells": [
  {
   "cell_type": "code",
   "execution_count": 1,
   "metadata": {},
   "outputs": [],
   "source": [
    "import numpy as np\n",
    "import pandas as pd\n",
    "import os\n",
    "import glob\n",
    "from tamil.txt2unicode import dinakaran2unicode"
   ]
  },
  {
   "cell_type": "code",
   "execution_count": 2,
   "metadata": {
    "collapsed": true
   },
   "outputs": [],
   "source": [
    "source_folder = \"/home/nat/Desktop/metadata_swiss_knife/data/tamil_docs/\"\n",
    "source_txts_folder = \"/home/nat/Desktop/metadata_swiss_knife/data/tamil_docs_txts_dinakaran/\"\n",
    "target_txts_folder = \"/home/nat/Desktop/metadata_swiss_knife/data/tamil_docs_txts_unicode/\""
   ]
  },
  {
   "cell_type": "code",
   "execution_count": 3,
   "metadata": {
    "collapsed": true
   },
   "outputs": [],
   "source": [
    "def get_txt_file(doc_file_path, output_dir):\n",
    "    try:\n",
    "        cmd = \"soffice --headless --convert-to txt \" + doc_file_path + \" --outdir \" + output_dir\n",
    "        os.system(cmd)\n",
    "    except:\n",
    "        print(\"Unexpected error:\", sys.exc_info()[0])\n",
    "        raise"
   ]
  },
  {
   "cell_type": "code",
   "execution_count": 4,
   "metadata": {
    "collapsed": true
   },
   "outputs": [],
   "source": [
    "def convert_font(source_file_path, target_file_path):\n",
    "    fw = open(target_file_path, 'w')\n",
    "\n",
    "    with open(source_file_path) as f:\n",
    "        for line in f:\n",
    "            uni = dinakaran2unicode(line)\n",
    "            fw.write(uni)\n",
    "    fw.close()"
   ]
  },
  {
   "cell_type": "code",
   "execution_count": 5,
   "metadata": {},
   "outputs": [
    {
     "name": "stdout",
     "output_type": "stream",
     "text": [
      "/home/nat/Desktop/metadata_swiss_knife/data/tamil_docs_txts_unicode//Episode-10-unicode.txt\n",
      "/home/nat/Desktop/metadata_swiss_knife/data/tamil_docs_txts_unicode//Episode-16-unicode.txt\n",
      "/home/nat/Desktop/metadata_swiss_knife/data/tamil_docs_txts_unicode//Episode-09-unicode.txt\n",
      "/home/nat/Desktop/metadata_swiss_knife/data/tamil_docs_txts_unicode//Episode-23-unicode.txt\n",
      "/home/nat/Desktop/metadata_swiss_knife/data/tamil_docs_txts_unicode//Episode-18-unicode.txt\n",
      "/home/nat/Desktop/metadata_swiss_knife/data/tamil_docs_txts_unicode//Episode-11-unicode.txt\n",
      "/home/nat/Desktop/metadata_swiss_knife/data/tamil_docs_txts_unicode//Episode-03-unicode.txt\n",
      "/home/nat/Desktop/metadata_swiss_knife/data/tamil_docs_txts_unicode//Episode-19-unicode.txt\n",
      "/home/nat/Desktop/metadata_swiss_knife/data/tamil_docs_txts_unicode//Episode-13-unicode.txt\n",
      "/home/nat/Desktop/metadata_swiss_knife/data/tamil_docs_txts_unicode//Episode-08-unicode.txt\n",
      "/home/nat/Desktop/metadata_swiss_knife/data/tamil_docs_txts_unicode//Episode-06-unicode.txt\n",
      "/home/nat/Desktop/metadata_swiss_knife/data/tamil_docs_txts_unicode//Episode-05-unicode.txt\n",
      "/home/nat/Desktop/metadata_swiss_knife/data/tamil_docs_txts_unicode//Episode-20-unicode.txt\n",
      "/home/nat/Desktop/metadata_swiss_knife/data/tamil_docs_txts_unicode//Episode-25-unicode.txt\n",
      "/home/nat/Desktop/metadata_swiss_knife/data/tamil_docs_txts_unicode//Episode-22-unicode.txt\n",
      "/home/nat/Desktop/metadata_swiss_knife/data/tamil_docs_txts_unicode//Episode-02-unicode.txt\n",
      "/home/nat/Desktop/metadata_swiss_knife/data/tamil_docs_txts_unicode//Episode-12-unicode.txt\n",
      "/home/nat/Desktop/metadata_swiss_knife/data/tamil_docs_txts_unicode//Episode-07-unicode.txt\n",
      "/home/nat/Desktop/metadata_swiss_knife/data/tamil_docs_txts_unicode//Episode-24-unicode.txt\n",
      "/home/nat/Desktop/metadata_swiss_knife/data/tamil_docs_txts_unicode//Episode-04-unicode.txt\n",
      "/home/nat/Desktop/metadata_swiss_knife/data/tamil_docs_txts_unicode//Episode-26-unicode.txt\n",
      "/home/nat/Desktop/metadata_swiss_knife/data/tamil_docs_txts_unicode//Episode-01-unicode.txt\n",
      "/home/nat/Desktop/metadata_swiss_knife/data/tamil_docs_txts_unicode//Episode-14-unicode.txt\n",
      "/home/nat/Desktop/metadata_swiss_knife/data/tamil_docs_txts_unicode//Episode-15-unicode.txt\n",
      "/home/nat/Desktop/metadata_swiss_knife/data/tamil_docs_txts_unicode//Episode-17-unicode.txt\n",
      "/home/nat/Desktop/metadata_swiss_knife/data/tamil_docs_txts_unicode//Episode-21-unicode.txt\n"
     ]
    }
   ],
   "source": [
    "files = glob.glob(source_txts_folder + \"*.txt\")\n",
    "for doc_file in files:\n",
    "    file_name = os.path.basename(doc_file)\n",
    "    file_name_without_ext = os.path.splitext(file_name)[0]\n",
    "    target_file_path = target_txts_folder + \"/\" + file_name_without_ext + \"-unicode.txt\"\n",
    "    convert_font(doc_file, target_file_path)\n",
    "    print(target_file_path)"
   ]
  },
  {
   "cell_type": "code",
   "execution_count": null,
   "metadata": {
    "collapsed": true
   },
   "outputs": [],
   "source": []
  }
 ],
 "metadata": {
  "kernelspec": {
   "display_name": "Python 3",
   "language": "python",
   "name": "python3"
  },
  "language_info": {
   "codemirror_mode": {
    "name": "ipython",
    "version": 3
   },
   "file_extension": ".py",
   "mimetype": "text/x-python",
   "name": "python",
   "nbconvert_exporter": "python",
   "pygments_lexer": "ipython3",
   "version": "3.6.9"
  }
 },
 "nbformat": 4,
 "nbformat_minor": 2
}
